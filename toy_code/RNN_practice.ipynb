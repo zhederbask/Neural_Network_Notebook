{
 "cells": [
  {
   "cell_type": "code",
   "execution_count": 16,
   "metadata": {
    "collapsed": true
   },
   "outputs": [],
   "source": [
    "import numpy as np\n",
    "###\n",
    "x = np.array([1.3,-0.3])\n",
    "h1 = 1/(1+np.exp(x))"
   ]
  },
  {
   "cell_type": "markdown",
   "metadata": {},
   "source": [
    "<img src=\"image/RNN-single-neuron.png\" alt=\"RNN-single-neuron\" width=\"300\">\n",
    "<img src=\"image/RNN.png\" alt=\"RNN\" width=\"300\">\n",
    "<img src=\"image/RNN-with-weight.png\" alt=\"RNN-with-weight\" width=\"300\">"
   ]
  },
  {
   "cell_type": "code",
   "execution_count": 110,
   "metadata": {
    "collapsed": true
   },
   "outputs": [],
   "source": [
    "h0 =  np.matrix([[0],[0]])\n",
    "x1 = np.matrix([[1],[0],[0]])\n",
    "x2 = np.matrix([[0],[1],[0]])\n",
    "x3 = np.matrix([[0],[0],[1]])\n",
    "x_set = np.matrix([[1,0,0],\n",
    "                  [0,1,0],\n",
    "                  [0,0,1]])\n",
    "## transition matrix of hidden layer\n",
    "Wh = np.matrix([[1,0.2],\n",
    "              [1,0.2]])\n",
    "## weighted matrix\n",
    "Wx = np.matrix([[1,1,1],\n",
    "              [-1,-1,-1]])\n",
    "## bias matrix\n",
    "b = np.matrix([[0.3],\n",
    "              [0.7]])\n",
    "## emission\n",
    "EM = np.matrix([[0.3,0.2],\n",
    "                [  1,-1],\n",
    "                [0.3,1]])"
   ]
  },
  {
   "cell_type": "code",
   "execution_count": 333,
   "metadata": {
    "collapsed": true
   },
   "outputs": [],
   "source": [
    "\n",
    "def input_operation(input_list, previous_input):\n",
    "        print(\"input:\")\n",
    "        print(str(input_list.transpose()))\n",
    "        result = Wh*(previous_input) + Wx*(input_list) + b\n",
    "        print(\"output\")\n",
    "        print(str(result))\n",
    "        return result\n",
    "\n",
    "def sigmoid(input_list):\n",
    "    exp_term = np.exp(-input_list)\n",
    "    sigmoid_result = 1/(1+exp_term)\n",
    "    print(\"sigmoid\")\n",
    "    print(str(sigmoid_result))\n",
    "    return(sigmoid_result)\n",
    "\n",
    "def softmax(input_list):\n",
    "    exp_term = np.exp(input_list)\n",
    "    softmax_result = exp_term/(exp_term.sum())\n",
    "    print(\"softmax\")\n",
    "    print(str(softmax_result))    \n",
    "    return(softmax_result)\n",
    "\n",
    "def emission(input_list):\n",
    "    emission_result = (EM*(input_list))+0.5\n",
    "    print(\"Emission output:\") \n",
    "    print(str(emission_result))\n",
    "    return emission_result\n",
    "\n",
    "def prediction(softmax_result, basis_stack):\n",
    "    output_stack = [[],[],[]]\n",
    "    ind = 0\n",
    "    for word in softmax_result:\n",
    "        candidate = 0\n",
    "        comparision_buf = 0\n",
    "        for index, probability in enumerate(word):\n",
    "            if probability>comparision_buf:\n",
    "                candidate = index\n",
    "        output_stack[ind] = basis_stack[index].transpose()\n",
    "        ind += 1\n",
    "    print(output_stack)\n",
    "    return output_stack"
   ]
  },
  {
   "cell_type": "code",
   "execution_count": 334,
   "metadata": {},
   "outputs": [
    {
     "name": "stdout",
     "output_type": "stream",
     "text": [
      "input:\n",
      "[[1 0 0]]\n",
      "output\n",
      "[[ 1.3]\n",
      " [-0.3]]\n",
      "sigmoid\n",
      "[[ 0.78583498]\n",
      " [ 0.42555748]]\n",
      "Emission output:\n",
      "[[ 0.82086199]\n",
      " [ 0.8602775 ]\n",
      " [ 1.16130798]]\n",
      "softmax\n",
      "[[ 0.29021031]\n",
      " [ 0.30187752]\n",
      " [ 0.40791216]]\n"
     ]
    }
   ],
   "source": [
    "out1 = input_operation(x1, h0)\n",
    "h1 = sigmoid(out1)\n",
    "EMh1 = emission(h1)\n",
    "softmax1 = softmax(EMh1)"
   ]
  },
  {
   "cell_type": "code",
   "execution_count": 335,
   "metadata": {},
   "outputs": [
    {
     "name": "stdout",
     "output_type": "stream",
     "text": [
      "input:\n",
      "[[0 1 0]]\n",
      "output\n",
      "[[ 2.17094648]\n",
      " [ 0.57094648]]\n",
      "sigmoid\n",
      "[[ 0.89760999]\n",
      " [ 0.63898154]]\n",
      "Emission output:\n",
      "[[ 0.8970793 ]\n",
      " [ 0.75862845]\n",
      " [ 1.40826454]]\n",
      "softmax\n",
      "[[ 0.28264779]\n",
      " [ 0.24610313]\n",
      " [ 0.47124908]]\n"
     ]
    }
   ],
   "source": [
    "out2 = input_operation(x2, h1)\n",
    "h2 = sigmoid(out2)\n",
    "EMh2 = emission(h2)\n",
    "softmax2 = softmax(EMh2)"
   ]
  },
  {
   "cell_type": "code",
   "execution_count": 336,
   "metadata": {},
   "outputs": [
    {
     "name": "stdout",
     "output_type": "stream",
     "text": [
      "input:\n",
      "[[0 0 1]]\n",
      "output\n",
      "[[ 2.3254063]\n",
      " [ 0.7254063]]\n",
      "sigmoid\n",
      "[[ 0.91095943]\n",
      " [ 0.67379641]]\n",
      "Emission output:\n",
      "[[ 0.90804711]\n",
      " [ 0.73716303]\n",
      " [ 1.44708424]]\n",
      "softmax\n",
      "[[ 0.28111408]\n",
      " [ 0.23695648]\n",
      " [ 0.48192944]]\n"
     ]
    }
   ],
   "source": [
    "out3 = input_operation(x3, h2)\n",
    "h3 = sigmoid(out3)\n",
    "EMh3 = emission(h3)\n",
    "softmax3 = softmax(EMh3)"
   ]
  },
  {
   "cell_type": "code",
   "execution_count": 337,
   "metadata": {},
   "outputs": [
    {
     "name": "stdout",
     "output_type": "stream",
     "text": [
      "[matrix([[0, 0, 1]]), matrix([[0, 0, 1]]), matrix([[0, 0, 1]])]\n"
     ]
    }
   ],
   "source": [
    "predicted_result = prediction([softmax1,softmax2,softmax3],[x1,x2,x3])"
   ]
  },
  {
   "cell_type": "code",
   "execution_count": 338,
   "metadata": {},
   "outputs": [
    {
     "data": {
      "text/plain": [
       "[matrix([[0, 0, 1]]), matrix([[0, 0, 1]]), matrix([[0, 0, 1]])]"
      ]
     },
     "execution_count": 338,
     "metadata": {},
     "output_type": "execute_result"
    }
   ],
   "source": [
    "predicted_result"
   ]
  },
  {
   "cell_type": "code",
   "execution_count": null,
   "metadata": {
    "collapsed": true
   },
   "outputs": [],
   "source": []
  },
  {
   "cell_type": "code",
   "execution_count": 339,
   "metadata": {
    "collapsed": true
   },
   "outputs": [],
   "source": [
    "#######\n",
    "#######\n",
    "class naive_RNN:\n",
    "    #### initialized the RNN\n",
    "    def __init__(self, initialized_inner_input):\n",
    "        self.inner_input = initialized_inner_input\n",
    "        ## transition matrix of hidden layer\n",
    "        self.Wh = np.matrix([[1,0.2],\n",
    "                             [1,0.2]])\n",
    "        ## weighted matrix\n",
    "        self.Wx = np.matrix([[1,1,1],\n",
    "                             [-1,-1,-1]])\n",
    "        ## bias matrix\n",
    "        self.bias = np.matrix([[0.3],\n",
    "                               [0.7]])\n",
    "        ## emission\n",
    "        self.emission_matrix = np.matrix([[0.3,0.2],\n",
    "                                    [  1,-1],\n",
    "                                    [0.3,1]])\n",
    "        ## buf for result\n",
    "        self.input_mapping = 0\n",
    "        self.sigmoid_result = 0\n",
    "        self.softmax_result = 0\n",
    "        self.emission_result = 0\n",
    "        self.output_stack = []\n",
    "        self.basis_stack = []\n",
    "    #### input layer mapping\n",
    "    def input_operation(self, input_vector):\n",
    "        print(\"input:\")\n",
    "        print(str(input_vector.transpose()))\n",
    "        result = self.Wh*(self.inner_input) + self.Wx*(input_vector) + self.bias\n",
    "        print(\"output\")\n",
    "        print(str(result))\n",
    "        self.input_mapping = result\n",
    "        self.basis_stack = self.basis_stack.append(input_vector)\n",
    "        #print(str(self.basis_stack))\n",
    "\n",
    "    def sigmoid(self):\n",
    "        exp_term = np.exp(-self.input_mapping)\n",
    "        sigmoid_result = 1/(1+exp_term)\n",
    "        print(\"sigmoid\")\n",
    "        print(str(sigmoid_result))\n",
    "        self.inner_input = sigmoid_result\n",
    "        self.sigmoid_result = (sigmoid_result)\n",
    "        \n",
    "    def emission(self):\n",
    "        emission_result = (self.emission_matrix*(self.sigmoid_result))+0.5\n",
    "        print(\"Emission output:\") \n",
    "        print(str(emission_result))\n",
    "        self.emission = emission_result\n",
    "        \n",
    "    def softmax(self):\n",
    "        exp_term = np.exp(self.emission)\n",
    "        softmax_result = exp_term/(exp_term.sum())\n",
    "        print(\"softmax\")\n",
    "        print(str(softmax_result))    \n",
    "        self.softmax_result = (softmax_result)\n",
    "\n",
    "    def prediction(self):\n",
    "        for word in self.softmax_result:\n",
    "            candidate = 0\n",
    "            comparision_buf = 0\n",
    "            for index, probability in enumerate(word):\n",
    "                if probability>comparision_buf:\n",
    "                    candidate = index\n",
    "            self.output_stack = self.output_stack.append(self.basis_stack[index])\n",
    "        print(self.output_stack)\n"
   ]
  },
  {
   "cell_type": "code",
   "execution_count": 340,
   "metadata": {
    "collapsed": true
   },
   "outputs": [],
   "source": [
    "NaiveRNN = naive_RNN(h0)"
   ]
  },
  {
   "cell_type": "code",
   "execution_count": 341,
   "metadata": {},
   "outputs": [
    {
     "name": "stdout",
     "output_type": "stream",
     "text": [
      "input:\n",
      "[[1 0 0]]\n",
      "output\n",
      "[[ 1.3]\n",
      " [-0.3]]\n",
      "sigmoid\n",
      "[[ 0.78583498]\n",
      " [ 0.42555748]]\n",
      "Emission output:\n",
      "[[ 0.82086199]\n",
      " [ 0.8602775 ]\n",
      " [ 1.16130798]]\n",
      "softmax\n",
      "[[ 0.29021031]\n",
      " [ 0.30187752]\n",
      " [ 0.40791216]]\n"
     ]
    }
   ],
   "source": [
    "NaiveRNN.input_operation(x1)\n",
    "NaiveRNN.sigmoid()\n",
    "NaiveRNN.emission()\n",
    "NaiveRNN.softmax()"
   ]
  },
  {
   "cell_type": "code",
   "execution_count": null,
   "metadata": {
    "collapsed": true
   },
   "outputs": [],
   "source": []
  }
 ],
 "metadata": {
  "kernelspec": {
   "display_name": "Python 3",
   "language": "python",
   "name": "python3"
  },
  "language_info": {
   "codemirror_mode": {
    "name": "ipython",
    "version": 3
   },
   "file_extension": ".py",
   "mimetype": "text/x-python",
   "name": "python",
   "nbconvert_exporter": "python",
   "pygments_lexer": "ipython3",
   "version": "3.6.1"
  }
 },
 "nbformat": 4,
 "nbformat_minor": 1
}
